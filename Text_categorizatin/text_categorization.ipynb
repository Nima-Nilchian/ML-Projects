{
 "cells": [
  {
   "cell_type": "markdown",
   "metadata": {},
   "source": [
    "<h1 align=center style=\"line-height:200%;font-family:vazir;color:#0099cc\">\n",
    "<font face=\"vazir\" color=\"#0099cc\">\n",
    "موضوع‌بندی\n",
    "</font>\n",
    "</h1>"
   ]
  },
  {
   "cell_type": "markdown",
   "metadata": {},
   "source": [
    "<h2 align=right style=\"line-height:200%;font-family:vazir;color:#0099cc\">\n",
    "<font face=\"vazir\" color=\"#0099cc\">\n",
    "مقدمه و صورت مسئله\n",
    "</font>\n",
    "</h2>\n",
    "\n",
    "<p dir=rtl style=\"direction: rtl; text-align: justify; line-height:200%; font-family:vazir; font-size:medium\">\n",
    "<font face=\"vazir\" size=3>\n",
    "به یک تمرین صنعتی از  کاربرد یادگیری ماشین در پردازش زبان طبیعی (NLP) خوش آمدید.  در این تمرین داده‌های واقعی وب فارسی که توسط پلتفرم <a href=\"https://www.yektanet.com/\">یکتانت</a> پالایش و جمع‌آوری شده در اختیار ما قرار گرفته است. هدف تمرین؛ ساخت یک مدل یادگیری ماشین است که با توجه متن‌های موجود در یک پیوند (Link) نظیر <i>عنوان</i>، <i>توضیحات</i>، <i>محتوای متنی [کامل]</i> و غیره بتواند دسته‌ی موضوعی آن سند را پیش‌بینی کند. به‌عنوان مثال اگر پیوندی از یک سایت خبری با عنوان «<i>کیهان کلهر جایزه مرد سال موسیقی جهان را دریافت کرد</i>» داشته باشیم، مدل ما باید پیش‌بینی کند که این مطلب مرتبط با موضوع «موسیقی» است. البته در این مثال ما تنها از ویژگی <i>عنوان</i> یاد کردیم، در حالی‌که می‌توان از متن <i>توضیحات</i> یا <i>محتوای متنی</i> هم کمک گرفت. \n",
    "\n",
    "</br>\n",
    "توجه داشته باشید برای آن‌که بتوانید از الگوریتم‌های معرفی‌شده در کالج جهت کار روی داده‌های متنی استفاده کنید نیاز است حداقل با یکی از روش‌های تعبیه‌سازی (Embedding) آشنا شده باشید تا بتوانید هر متن را به یک بردار ویژگی عددی تبدیل کنید.\n",
    "\n",
    "</font>\n",
    "</p>"
   ]
  },
  {
   "cell_type": "markdown",
   "metadata": {},
   "source": [
    "<h2 align=right style=\"line-height:200%;font-family:vazir;color:#0099cc\">\n",
    "<font face=\"vazir\" color=\"#0099cc\">\n",
    "وارد کردن کتابخانه‌های مورد نیاز\n",
    "</font>\n",
    "</h2>\n",
    "\n",
    "<p dir=rtl style=\"direction: rtl; text-align: justify; line-height:200%; font-family:vazir; font-size:medium\">\n",
    "<font face=\"vazir\" size=3>\n",
    "    ابتدا کتابخانه‌های مورد نیازتان را وارد کنید.\n",
    "</font>\n",
    "</p>"
   ]
  },
  {
   "cell_type": "code",
   "execution_count": 1,
   "metadata": {},
   "outputs": [],
   "source": [
    "import numpy as np\n",
    "import pandas as pd"
   ]
  },
  {
   "cell_type": "markdown",
   "metadata": {},
   "source": [
    "<h2 align=right style=\"line-height:200%;font-family:vazir;color:#0099cc\">\n",
    "<font face=\"vazir\" color=\"#0099cc\">\n",
    "معرفی مجموعه‌داده\n",
    "</font>\n",
    "</h2>\n",
    "\n",
    "<p dir=rtl style=\"direction: rtl; text-align: justify; line-height:200%; font-family:vazir; font-size:medium\">\n",
    "<font face=\"vazir\" size=3>\n",
    "    هر نمونه از این مجموعه‌داده با ویژگی‌هایی که در جدول زیر شرح داده شده همراه است. ستون <code>category</code> متغیر هدف مسئله است که موضوع محتوا را نشان می‌دهد. \n",
    "</font>\n",
    "</p>\n",
    "<center>\n",
    "<div dir=rtl style=\"direction: rtl;line-height:200%;font-family:vazir;font-size:medium\">\n",
    "<font face=\"vazir\" size=3>\n",
    "    \n",
    "|ستون|توضیحات|\n",
    "|:------:|:---:|\n",
    "|<code>category</code>| موضوع (متغیر هدف) |\n",
    "|<code>description</code>| توضیحات |\n",
    "|<code>text_content</code>| محتوای متنی |\n",
    "|<code>title</code>| عنوان |\n",
    "|<code>h1</code>| محتوای تگ <code>h1</code> صفحه |\n",
    "|<code>h2</code>|محتوای تگ <code>h2</code> صفحه  |\n",
    "|<code>url</code>| آدرس پیوند|\n",
    "|<code>domain</code>|دامنه‌ی وب‌سایت |\n",
    "|<code>id</code>|آیدی پیوند|\n",
    "\n",
    "</font>\n",
    "</div>\n",
    "</center>"
   ]
  },
  {
   "cell_type": "markdown",
   "metadata": {},
   "source": [
    "<h2 align=right style=\"line-height:200%;font-family:vazir;color:#0099cc\">\n",
    "<font face=\"vazir\" color=\"#0099cc\">\n",
    "خواندن مجموعه داده\n",
    "</font>\n",
    "</h2>\n",
    "\n",
    "<p dir=rtl style=\"direction: rtl; text-align: justify; line-height:200%; font-family:vazir; font-size:medium\">\n",
    "<font face=\"vazir\" size=3>\n",
    "    در ابتدا نیاز است فایل‌های مجموعه‌داده را بخوانید. نمونه‌های آموزشی در فایل <code>yektanet_train.csv</code> و نمونه‌های آزمون که باید موضوع آن‌ها را پیش‌بینی کنید در فایل <code>yektanet_test.csv</code> ذخیره شده‌اند. اگر لازم دانستید می‌توانید به دلخواه خود بخشی از مجموعه‌ی آموزشی را به عنوان مجموعه‌ی اعتبارسنجی نیز جدا کنید.\n",
    "</font>\n",
    "</p>"
   ]
  },
  {
   "cell_type": "code",
   "execution_count": 4,
   "metadata": {},
   "outputs": [
    {
     "data": {
      "text/html": [
       "<div>\n",
       "<style scoped>\n",
       "    .dataframe tbody tr th:only-of-type {\n",
       "        vertical-align: middle;\n",
       "    }\n",
       "\n",
       "    .dataframe tbody tr th {\n",
       "        vertical-align: top;\n",
       "    }\n",
       "\n",
       "    .dataframe thead th {\n",
       "        text-align: right;\n",
       "    }\n",
       "</style>\n",
       "<table border=\"1\" class=\"dataframe\">\n",
       "  <thead>\n",
       "    <tr style=\"text-align: right;\">\n",
       "      <th></th>\n",
       "      <th>category</th>\n",
       "      <th>description</th>\n",
       "      <th>text_content</th>\n",
       "      <th>title</th>\n",
       "      <th>h1</th>\n",
       "      <th>h2</th>\n",
       "      <th>url</th>\n",
       "      <th>domain</th>\n",
       "      <th>id</th>\n",
       "    </tr>\n",
       "  </thead>\n",
       "  <tbody>\n",
       "    <tr>\n",
       "      <th>0</th>\n",
       "      <td>کتاب و ادبیات</td>\n",
       "      <td>از شوبنده ها: جستجو معنی \"از شوبنده ها\" در فره...</td>\n",
       "      <td>معنی از شوبنده ها | جدول یاب از شوبنده ها 381</td>\n",
       "      <td>معنی از شوبنده ها | جدول یاب</td>\n",
       "      <td>معنی از شوبنده ها</td>\n",
       "      <td>از شوبنده ها در معادل ابجد</td>\n",
       "      <td>jadvalyab.ir/search?q=%D8%A7%D8%B2+%D8%B4%D9%8...</td>\n",
       "      <td>jadvalyab.ir</td>\n",
       "      <td>158</td>\n",
       "    </tr>\n",
       "    <tr>\n",
       "      <th>1</th>\n",
       "      <td>تجارت و اقتصاد</td>\n",
       "      <td>بیت‌کوین کش یک ارز مجازی مشهور است و بیت‌کوین ...</td>\n",
       "      <td>عکس بیت‌کوین کش برای پروفایل عکس و والپیپرهای ...</td>\n",
       "      <td>عکس بیت‌کوین کش برای پروفایل</td>\n",
       "      <td>عکس بیت‌کوین کش برای پروفایل</td>\n",
       "      <td>عکس بیت کوین با کیفیت 4K عکس ارزهای دیجیتال عک...</td>\n",
       "      <td>jowhareh.com/photo/%D8%B9%DA%A9%D8%B3-%D8%A8%D...</td>\n",
       "      <td>jowhareh.com</td>\n",
       "      <td>3268</td>\n",
       "    </tr>\n",
       "    <tr>\n",
       "      <th>2</th>\n",
       "      <td>سلامت</td>\n",
       "      <td>نوبت دهی دکتر مهناز عابدینی متخصص رادیولوژی و ...</td>\n",
       "      <td>دکتر مهناز عابدینی متخصص رادیولوژی و سونوگرافی...</td>\n",
       "      <td>دکتر مهناز عابدینی متخصص رادیولوژی و سونوگرافی...</td>\n",
       "      <td>دکتر مهناز عابدینی</td>\n",
       "      <td>آدرس و تلفن دکتر مهناز عابدینی نظرات و تجربیات...</td>\n",
       "      <td>doctor-yab.ir/Search/14773/%D8%AF%DA%A9%D8%AA%...</td>\n",
       "      <td>doctor-yab.ir</td>\n",
       "      <td>175</td>\n",
       "    </tr>\n",
       "    <tr>\n",
       "      <th>3</th>\n",
       "      <td>تکنولوژی و کامپبوتر</td>\n",
       "      <td>نرم افزار Geph برای اندروید یک پلت‌فرم چندسکوی...</td>\n",
       "      <td>دانلود تحریم‌گذر Geph برای اندروید خانه/اندروی...</td>\n",
       "      <td>دانلود تحریم‌گذر Geph برای اندروید</td>\n",
       "      <td>دانلود تحریم‌گذر Geph برای اندروید</td>\n",
       "      <td>دانلود نرم افزار Geph</td>\n",
       "      <td>palexe.site/dl/geph-android/</td>\n",
       "      <td>palexe.site</td>\n",
       "      <td>3402</td>\n",
       "    </tr>\n",
       "    <tr>\n",
       "      <th>4</th>\n",
       "      <td>تکنولوژی و کامپبوتر</td>\n",
       "      <td>سری جدید تلویزیون‌های هوشمند سامسونگ که با نام...</td>\n",
       "      <td>ترفندهای پرکاربرد تلویزیون‌‌های هوشمند سامسونگ...</td>\n",
       "      <td>ترفندهای پرکاربرد تلویزیون‌‌های هوشمند سامسونگ...</td>\n",
       "      <td>ترفندهای پرکاربرد تلویزیون‌‌های هوشمند سامسونگ</td>\n",
       "      <td>راه‌اندازی تلویزیون همگام‌سازی کنترل اتصال به ...</td>\n",
       "      <td>rokhdadeghtesadi.ir/43874/</td>\n",
       "      <td>rokhdadeghtesadi.ir</td>\n",
       "      <td>3811</td>\n",
       "    </tr>\n",
       "  </tbody>\n",
       "</table>\n",
       "</div>"
      ],
      "text/plain": [
       "              category                                        description  \\\n",
       "0        کتاب و ادبیات  از شوبنده ها: جستجو معنی \"از شوبنده ها\" در فره...   \n",
       "1       تجارت و اقتصاد  بیت‌کوین کش یک ارز مجازی مشهور است و بیت‌کوین ...   \n",
       "2                سلامت  نوبت دهی دکتر مهناز عابدینی متخصص رادیولوژی و ...   \n",
       "3  تکنولوژی و کامپبوتر  نرم افزار Geph برای اندروید یک پلت‌فرم چندسکوی...   \n",
       "4  تکنولوژی و کامپبوتر  سری جدید تلویزیون‌های هوشمند سامسونگ که با نام...   \n",
       "\n",
       "                                        text_content  \\\n",
       "0      معنی از شوبنده ها | جدول یاب از شوبنده ها 381   \n",
       "1  عکس بیت‌کوین کش برای پروفایل عکس و والپیپرهای ...   \n",
       "2  دکتر مهناز عابدینی متخصص رادیولوژی و سونوگرافی...   \n",
       "3  دانلود تحریم‌گذر Geph برای اندروید خانه/اندروی...   \n",
       "4  ترفندهای پرکاربرد تلویزیون‌‌های هوشمند سامسونگ...   \n",
       "\n",
       "                                               title  \\\n",
       "0                       معنی از شوبنده ها | جدول یاب   \n",
       "1                       عکس بیت‌کوین کش برای پروفایل   \n",
       "2  دکتر مهناز عابدینی متخصص رادیولوژی و سونوگرافی...   \n",
       "3                 دانلود تحریم‌گذر Geph برای اندروید   \n",
       "4  ترفندهای پرکاربرد تلویزیون‌‌های هوشمند سامسونگ...   \n",
       "\n",
       "                                               h1  \\\n",
       "0                               معنی از شوبنده ها   \n",
       "1                    عکس بیت‌کوین کش برای پروفایل   \n",
       "2                              دکتر مهناز عابدینی   \n",
       "3              دانلود تحریم‌گذر Geph برای اندروید   \n",
       "4  ترفندهای پرکاربرد تلویزیون‌‌های هوشمند سامسونگ   \n",
       "\n",
       "                                                  h2  \\\n",
       "0                         از شوبنده ها در معادل ابجد   \n",
       "1  عکس بیت کوین با کیفیت 4K عکس ارزهای دیجیتال عک...   \n",
       "2  آدرس و تلفن دکتر مهناز عابدینی نظرات و تجربیات...   \n",
       "3                              دانلود نرم افزار Geph   \n",
       "4  راه‌اندازی تلویزیون همگام‌سازی کنترل اتصال به ...   \n",
       "\n",
       "                                                 url               domain  \\\n",
       "0  jadvalyab.ir/search?q=%D8%A7%D8%B2+%D8%B4%D9%8...         jadvalyab.ir   \n",
       "1  jowhareh.com/photo/%D8%B9%DA%A9%D8%B3-%D8%A8%D...         jowhareh.com   \n",
       "2  doctor-yab.ir/Search/14773/%D8%AF%DA%A9%D8%AA%...        doctor-yab.ir   \n",
       "3                       palexe.site/dl/geph-android/          palexe.site   \n",
       "4                         rokhdadeghtesadi.ir/43874/  rokhdadeghtesadi.ir   \n",
       "\n",
       "     id  \n",
       "0   158  \n",
       "1  3268  \n",
       "2   175  \n",
       "3  3402  \n",
       "4  3811  "
      ]
     },
     "execution_count": 4,
     "metadata": {},
     "output_type": "execute_result"
    }
   ],
   "source": [
    "train = pd.read_csv('./data/yektanet_train.csv')\n",
    "train.head()"
   ]
  },
  {
   "cell_type": "code",
   "execution_count": 6,
   "metadata": {},
   "outputs": [
    {
     "data": {
      "text/html": [
       "<div>\n",
       "<style scoped>\n",
       "    .dataframe tbody tr th:only-of-type {\n",
       "        vertical-align: middle;\n",
       "    }\n",
       "\n",
       "    .dataframe tbody tr th {\n",
       "        vertical-align: top;\n",
       "    }\n",
       "\n",
       "    .dataframe thead th {\n",
       "        text-align: right;\n",
       "    }\n",
       "</style>\n",
       "<table border=\"1\" class=\"dataframe\">\n",
       "  <thead>\n",
       "    <tr style=\"text-align: right;\">\n",
       "      <th></th>\n",
       "      <th>description</th>\n",
       "      <th>text_content</th>\n",
       "      <th>title</th>\n",
       "      <th>h1</th>\n",
       "      <th>h2</th>\n",
       "      <th>url</th>\n",
       "      <th>domain</th>\n",
       "      <th>id</th>\n",
       "    </tr>\n",
       "  </thead>\n",
       "  <tbody>\n",
       "    <tr>\n",
       "      <th>0</th>\n",
       "      <td>پیام ناشناس یک ابزار رایگان برای ساخت چالش های...</td>\n",
       "      <td>پیام ناشناس / چالش دریافت پیام های ناشناس با ل...</td>\n",
       "      <td>پیام ناشناس / چالش دریافت پیام های ناشناس با ل...</td>\n",
       "      <td>NaN</td>\n",
       "      <td>پیام ناشناس / چالش دریافت پیام های ناشناس با ل...</td>\n",
       "      <td>abzarek.ir/service-p/msg/824757/</td>\n",
       "      <td>abzarek.ir</td>\n",
       "      <td>3291</td>\n",
       "    </tr>\n",
       "    <tr>\n",
       "      <th>1</th>\n",
       "      <td>اقتصادنیوز: سید امیر احمد علیه السلام ملقب به ...</td>\n",
       "      <td>حرم شاهچراغ شیراز در گذر زمان+تصاویر حرم شاهچر...</td>\n",
       "      <td>حرم شاهچراغ شیراز در گذر زمان+تصاویر</td>\n",
       "      <td>حرم شاهچراغ شیراز در گذر زمان+تصاویر</td>\n",
       "      <td>NaN</td>\n",
       "      <td>eghtesadnews.com/%D8%A8%D8%AE%D8%B4-%D8%A7%D8%...</td>\n",
       "      <td>eghtesadnews.com</td>\n",
       "      <td>5053</td>\n",
       "    </tr>\n",
       "    <tr>\n",
       "      <th>2</th>\n",
       "      <td>آخرین خبر های بین المللی و آخرین تحولات جهان، ...</td>\n",
       "      <td>آخرین خبر | زلنسکی پیام پوتین را دریافت کرد ✖...</td>\n",
       "      <td>آخرین خبر | زلنسکی پیام پوتین را دریافت کرد</td>\n",
       "      <td>زلنسکی پیام پوتین را دریافت کرد</td>\n",
       "      <td>NaN</td>\n",
       "      <td>akharinkhabar.ir/world/9332333/%D8%B2%D9%84%D9...</td>\n",
       "      <td>akharinkhabar.ir</td>\n",
       "      <td>564</td>\n",
       "    </tr>\n",
       "    <tr>\n",
       "      <th>3</th>\n",
       "      <td>آهنگ گاهی دریدن لازم نیست با صدای امیر تتلو با...</td>\n",
       "      <td>آهنگ گاهی دریدن لازم نیست امیر تتلو آهنگ گاهی ...</td>\n",
       "      <td>آهنگ گاهی دریدن لازم نیست امیر تتلو</td>\n",
       "      <td>آهنگ گاهی دریدن لازم نیست امیر تتلو</td>\n",
       "      <td>گاهی دریدن لازم نیست امیر تتلو</td>\n",
       "      <td>behmusic.com/music/%DA%AF%D8%A7%D9%87%DB%8C-%D...</td>\n",
       "      <td>behmusic.com</td>\n",
       "      <td>3607</td>\n",
       "    </tr>\n",
       "    <tr>\n",
       "      <th>4</th>\n",
       "      <td>کیهان با اشاره به حوادث و ناآرامیهای اخیر کشور...</td>\n",
       "      <td>انتقاد کیهان از امام جمعه اهل سنت زاهدان/ با ا...</td>\n",
       "      <td>انتقاد کیهان از امام جمعه اهل سنت زاهدان/ با ا...</td>\n",
       "      <td>انتقاد کیهان از امام جمعه اهل سنت زاهدان/ با ا...</td>\n",
       "      <td>برچسب‌ها نظر شما آخرین اخبار سیاسی ایران در بح...</td>\n",
       "      <td>khabaronline.ir/news/1688132/%D8%A7%D9%86%D8%A...</td>\n",
       "      <td>khabaronline.ir</td>\n",
       "      <td>2358</td>\n",
       "    </tr>\n",
       "  </tbody>\n",
       "</table>\n",
       "</div>"
      ],
      "text/plain": [
       "                                         description  \\\n",
       "0  پیام ناشناس یک ابزار رایگان برای ساخت چالش های...   \n",
       "1  اقتصادنیوز: سید امیر احمد علیه السلام ملقب به ...   \n",
       "2  آخرین خبر های بین المللی و آخرین تحولات جهان، ...   \n",
       "3  آهنگ گاهی دریدن لازم نیست با صدای امیر تتلو با...   \n",
       "4  کیهان با اشاره به حوادث و ناآرامیهای اخیر کشور...   \n",
       "\n",
       "                                        text_content  \\\n",
       "0  پیام ناشناس / چالش دریافت پیام های ناشناس با ل...   \n",
       "1  حرم شاهچراغ شیراز در گذر زمان+تصاویر حرم شاهچر...   \n",
       "2   آخرین خبر | زلنسکی پیام پوتین را دریافت کرد ✖...   \n",
       "3  آهنگ گاهی دریدن لازم نیست امیر تتلو آهنگ گاهی ...   \n",
       "4  انتقاد کیهان از امام جمعه اهل سنت زاهدان/ با ا...   \n",
       "\n",
       "                                               title  \\\n",
       "0  پیام ناشناس / چالش دریافت پیام های ناشناس با ل...   \n",
       "1               حرم شاهچراغ شیراز در گذر زمان+تصاویر   \n",
       "2        آخرین خبر | زلنسکی پیام پوتین را دریافت کرد   \n",
       "3                آهنگ گاهی دریدن لازم نیست امیر تتلو   \n",
       "4  انتقاد کیهان از امام جمعه اهل سنت زاهدان/ با ا...   \n",
       "\n",
       "                                                  h1  \\\n",
       "0                                                NaN   \n",
       "1               حرم شاهچراغ شیراز در گذر زمان+تصاویر   \n",
       "2                    زلنسکی پیام پوتین را دریافت کرد   \n",
       "3                آهنگ گاهی دریدن لازم نیست امیر تتلو   \n",
       "4  انتقاد کیهان از امام جمعه اهل سنت زاهدان/ با ا...   \n",
       "\n",
       "                                                  h2  \\\n",
       "0  پیام ناشناس / چالش دریافت پیام های ناشناس با ل...   \n",
       "1                                                NaN   \n",
       "2                                                NaN   \n",
       "3                     گاهی دریدن لازم نیست امیر تتلو   \n",
       "4  برچسب‌ها نظر شما آخرین اخبار سیاسی ایران در بح...   \n",
       "\n",
       "                                                 url            domain    id  \n",
       "0                   abzarek.ir/service-p/msg/824757/        abzarek.ir  3291  \n",
       "1  eghtesadnews.com/%D8%A8%D8%AE%D8%B4-%D8%A7%D8%...  eghtesadnews.com  5053  \n",
       "2  akharinkhabar.ir/world/9332333/%D8%B2%D9%84%D9...  akharinkhabar.ir   564  \n",
       "3  behmusic.com/music/%DA%AF%D8%A7%D9%87%DB%8C-%D...      behmusic.com  3607  \n",
       "4  khabaronline.ir/news/1688132/%D8%A7%D9%86%D8%A...   khabaronline.ir  2358  "
      ]
     },
     "execution_count": 6,
     "metadata": {},
     "output_type": "execute_result"
    }
   ],
   "source": [
    "test = pd.read_csv('./data/yektanet_test.csv')\n",
    "test.head()"
   ]
  },
  {
   "cell_type": "markdown",
   "metadata": {},
   "source": [
    "<h2 align=right style=\"line-height:200%;font-family:vazir;color:#0099cc\">\n",
    "<font face=\"vazir\" color=\"#0099cc\">\n",
    "پیش‌پردازش و مهندسی ویژگی\n",
    "</font>\n",
    "</h2>\n",
    "\n",
    "<p dir=rtl style=\"direction: rtl; text-align: justify; line-height:200%; font-family:vazir; font-size:medium\">\n",
    "<font face=\"vazir\" size=3>\n",
    "در هنگام کار با داده‌های متنی، پیش‌پردازش داده‌ها به کمک تکنیک‌های پردازش زبان طبیعی یکی از مراحل بسیار تاثیرگذار در یادگیری مدل و عملکرد نهایی است.\n",
    "در تمرین «کامنت‌کاوی» فصل دسته‌بندی با چندین تکنیک رایج پیش‌پردازش خصوصاً برای زبان فارسی آشنا شدید. در این قسمت نیز می‌توانید تابعی بنویسید که یک رشته (<code>string</code>) را گرفته، اصلاحات موردنظر شما رو روی متن اعمال کرده و در نهایت نتیجه را با فرمت یک رشته (<code>string</code>) خروجی دهد. بررسی و تحلیل کلمات موجود در مجموعه‌داده از نظر تعداد رخداد نیز می‌تواند شما را در پیش‌پردازش بهتر یاری کند.\n",
    "</font>\n",
    "</p>\n"
   ]
  },
  {
   "cell_type": "code",
   "execution_count": 7,
   "metadata": {},
   "outputs": [
    {
     "data": {
      "text/plain": [
       "سلامت                  614\n",
       "ورزش                   514\n",
       "حقوق و دولت و سیاست    486\n",
       "هنر و سرگرمی           410\n",
       "موسیقی                 314\n",
       "تکنولوژی و کامپبوتر    287\n",
       "تجارت و اقتصاد         283\n",
       "فیلم و سینما           239\n",
       "خودرو                  237\n",
       "اجتماعی                209\n",
       "سفر و گردشگری          182\n",
       "غذا و نوشیدنی          171\n",
       "مذهبی                  160\n",
       "مسکن                   131\n",
       "خانه و باغبانی         128\n",
       "مد و زیبایی            118\n",
       "کتاب و ادبیات           83\n",
       "تحصیلات                 79\n",
       "اشتغال                  47\n",
       "علم و دانش              34\n",
       "خانواده                 34\n",
       "حیوانات خانگی           29\n",
       "Name: category, dtype: int64"
      ]
     },
     "execution_count": 7,
     "metadata": {},
     "output_type": "execute_result"
    }
   ],
   "source": [
    "train['category'].value_counts()"
   ]
  },
  {
   "cell_type": "code",
   "execution_count": 8,
   "metadata": {},
   "outputs": [],
   "source": [
    "X_train = train.drop(columns=['category'])\n",
    "y_train = train['category']"
   ]
  },
  {
   "cell_type": "code",
   "execution_count": 14,
   "metadata": {},
   "outputs": [],
   "source": [
    "# !pip install imblearn"
   ]
  },
  {
   "cell_type": "code",
   "execution_count": 12,
   "metadata": {},
   "outputs": [],
   "source": [
    "from imblearn.over_sampling import RandomOverSampler\n",
    "ros = RandomOverSampler(random_state=0)\n",
    "data_resampled, targets_resampled = ros.fit_resample(X_train, y_train)"
   ]
  },
  {
   "cell_type": "code",
   "execution_count": 13,
   "metadata": {},
   "outputs": [
    {
     "data": {
      "text/plain": [
       "کتاب و ادبیات          614\n",
       "تجارت و اقتصاد         614\n",
       "اشتغال                 614\n",
       "خانواده                614\n",
       "علم و دانش             614\n",
       "تحصیلات                614\n",
       "موسیقی                 614\n",
       "خانه و باغبانی         614\n",
       "هنر و سرگرمی           614\n",
       "سفر و گردشگری          614\n",
       "فیلم و سینما           614\n",
       "مذهبی                  614\n",
       "اجتماعی                614\n",
       "مد و زیبایی            614\n",
       "خودرو                  614\n",
       "مسکن                   614\n",
       "حقوق و دولت و سیاست    614\n",
       "غذا و نوشیدنی          614\n",
       "ورزش                   614\n",
       "تکنولوژی و کامپبوتر    614\n",
       "سلامت                  614\n",
       "حیوانات خانگی          614\n",
       "Name: category, dtype: int64"
      ]
     },
     "execution_count": 13,
     "metadata": {},
     "output_type": "execute_result"
    }
   ],
   "source": [
    "targets_resampled.value_counts()"
   ]
  },
  {
   "cell_type": "code",
   "execution_count": 18,
   "metadata": {},
   "outputs": [],
   "source": [
    "from hazm import Normalizer, word_tokenize, stopwords_list\n",
    "import string\n",
    "\n",
    "normalizer = Normalizer()\n",
    "stopwords = stopwords_list()\n",
    "\n",
    "def preprocessor(input):\n",
    "    punc_removed = input.translate(str.maketrans('', '', string.punctuation))\n",
    "    normalized = normalizer.normalize(punc_removed)\n",
    "    tokens = word_tokenize(normalized)\n",
    "    filtered = []\n",
    "    for token in tokens:\n",
    "        token = str(token)\n",
    "        token = token.lower()\n",
    "        if not token in persian_stopwords and not token.isdigit():\n",
    "            filtered.append(token)\n",
    "    output = ' '.join(filtered)\n",
    "    return output"
   ]
  },
  {
   "cell_type": "code",
   "execution_count": 19,
   "metadata": {},
   "outputs": [],
   "source": [
    "def tokenizer(text):\n",
    "    return word_tokenize(text)"
   ]
  },
  {
   "cell_type": "code",
   "execution_count": 20,
   "metadata": {},
   "outputs": [],
   "source": [
    "# Todo\n",
    "from sklearn.preprocessing import LabelEncoder\n",
    "\n",
    "X_train = data_resampled['title']\n",
    "y_train = targets_resampled\n",
    "encoder = LabelEncoder()\n",
    "y_train = encoder.fit_transform(y_train)"
   ]
  },
  {
   "cell_type": "code",
   "execution_count": 47,
   "metadata": {},
   "outputs": [
    {
     "data": {
      "text/plain": [
       "0                             معنی از شوبنده ها | جدول یاب\n",
       "1                             عکس بیت‌کوین کش برای پروفایل\n",
       "2        دکتر مهناز عابدینی متخصص رادیولوژی و سونوگرافی...\n",
       "3                       دانلود تحریم‌گذر Geph برای اندروید\n",
       "4        ترفندهای پرکاربرد تلویزیون‌‌های هوشمند سامسونگ...\n",
       "                               ...                        \n",
       "13503             انتشارات فردوسی در باب همایون | کتاب اول\n",
       "13504                  دانلود pdf کتاب قصر خوشبختی پرل باک\n",
       "13505                     رمان خدمتکار اجباری من | ❤️یک نت\n",
       "13506                    معنی معطل | واژگان مترادف و متضاد\n",
       "13507                            شعر نقاش شهریار | ❤️یک نت\n",
       "Name: title, Length: 13508, dtype: object"
      ]
     },
     "execution_count": 47,
     "metadata": {},
     "output_type": "execute_result"
    }
   ],
   "source": [
    "X_train"
   ]
  },
  {
   "cell_type": "code",
   "execution_count": 48,
   "metadata": {},
   "outputs": [
    {
     "data": {
      "text/plain": [
       "array([21,  2, 11, ..., 21, 21, 21])"
      ]
     },
     "execution_count": 48,
     "metadata": {},
     "output_type": "execute_result"
    }
   ],
   "source": [
    "y_train"
   ]
  },
  {
   "cell_type": "markdown",
   "metadata": {},
   "source": [
    "<h2 align=right style=\"line-height:200%;font-family:vazir;color:#0099cc\">\n",
    "<font face=\"vazir\" color=\"#0099cc\">\n",
    "مدل‌سازی\n",
    "</font>\n",
    "</h2>\n",
    "\n",
    "<p dir=rtl style=\"direction: rtl; text-align: justify; line-height:200%; font-family:vazir; font-size:medium\">\n",
    "<font face=\"vazir\" size=3>\n",
    "اکنون وقت آن رسیده که الگوریتم یادگیری ماشین موردنظر خود را بر روی داده‌های آموزشی اجرا کنید. در انتخاب الگوریتم کاملاً آزاد هستید. برای این بخش می‌توانید ابتدا هر ورودی متن را به کمک تکنیک‌های معرفی‌شده در درسنامه‌های این فصل (مثل Bag-of-Word یا Tf-idf) به بردارهای ویژگی عددی تبدیل کنید. سپس این بردارها را همراه با لیست برچسب‌های صحیح به الگوریتم بدهید تا مدل آموخته شود. علاوه بر این می‌توانید تمام این مراحل را در یک خط لوله‌ (<code>Pipeline</code>) نیز تعریف کنید.\n",
    "</font>\n",
    "</p>"
   ]
  },
  {
   "cell_type": "code",
   "execution_count": 27,
   "metadata": {},
   "outputs": [],
   "source": [
    "from sklearn.feature_extraction.text import CountVectorizer, TfidfTransformer\n",
    "from sklearn.svm import LinearSVC\n",
    "from sklearn.pipeline import Pipeline\n",
    "\n",
    "\n",
    "svm = Pipeline(\n",
    "    [('vect', CountVectorizer(tokenizer=tokenizer, preprocessor=preprocessor,\n",
    "                                         analyzer='word', ngram_range=(1, 2),\n",
    "                                         min_df=5, lowercase=False)),\n",
    "     ('tfidf', TfidfTransformer(sublinear_tf=True)),\n",
    "     ('clf', LinearSVC(max_iter=5000))\n",
    "    ]\n",
    ")\n",
    "\n",
    "model = svm.fit(X_train, y_train)"
   ]
  },
  {
   "cell_type": "code",
   "execution_count": 28,
   "metadata": {},
   "outputs": [
    {
     "data": {
      "text/plain": [
       "Pipeline(steps=[('vect',\n",
       "                 CountVectorizer(lowercase=False, min_df=5, ngram_range=(1, 2),\n",
       "                                 preprocessor=<function preprocessor at 0x000002B1D8BE2550>,\n",
       "                                 tokenizer=<function tokenizer at 0x000002B1D124F310>)),\n",
       "                ('tfidf', TfidfTransformer(sublinear_tf=True)),\n",
       "                ('clf', LinearSVC(max_iter=5000))])"
      ]
     },
     "execution_count": 28,
     "metadata": {},
     "output_type": "execute_result"
    }
   ],
   "source": [
    "model"
   ]
  },
  {
   "cell_type": "markdown",
   "metadata": {},
   "source": [
    "<h2 align=right style=\"line-height:200%;font-family:vazir;color:#0099cc\">\n",
    "<font face=\"vazir\" color=\"#0099cc\">\n",
    "معیار ارزیابی\n",
    "</font>\n",
    "</h2>\n",
    "\n",
    "<p dir=rtl style=\"direction: rtl; text-align: justify; line-height:200%; font-family:vazir; font-size:medium\">\n",
    "<font face=\"vazir\" size=3>\n",
    "    معیاری که برای ارزیابی عملکرد مدل انتخاب کرده‌ایم، <code>F1-score</code> نام دارد و از رویکرد میانگین‌گیری وزن‌دار (<code dir=ltr>average='weighted'</code>) استفاده می‌شود.\n",
    "    <br>\n",
    "    پیشنهاد می‌شود با توجه به این معیار، عملکرد مدل خود را بر روی مجموعه‌ی آموزش یا اعتبارسنجی ارزیابی کنید و طبق نتایج به‌دست‌آمده پارامترهای مدل خود را بهتر تنظیم کنید.\n",
    "</font>\n",
    "</p>"
   ]
  },
  {
   "cell_type": "code",
   "execution_count": 29,
   "metadata": {},
   "outputs": [
    {
     "name": "stdout",
     "output_type": "stream",
     "text": [
      "Training F1-score: 0.9889553399569515\n"
     ]
    }
   ],
   "source": [
    "from sklearn.metrics import f1_score\n",
    "\n",
    "predictions = model.predict(X_train)\n",
    "print('Training F1-score:', f1_score(y_train, predictions, average='weighted'))"
   ]
  },
  {
   "cell_type": "markdown",
   "metadata": {},
   "source": [
    "<h2 align=right style=\"line-height:200%;font-family:vazir;color:#0099cc\">\n",
    "<font face=\"vazir\" color=\"#0099cc\">\n",
    " پیش‌بینی برای داده تست و خروجی\n",
    "</font>\n",
    "</h2>\n",
    "\n",
    "<p dir=rtl style=\"direction: rtl; text-align: justify; line-height:200%; font-family:vazir; font-size:medium\">\n",
    "<font face=\"vazir\" size=3>\n",
    "    پس از مهندسی ویژگی و مدل‌سازی، الگوریتمی دارید که می‌تواند شما را از متغیرهای مستقل به متغیر هدف برساند.\n",
    "    <br>\n",
    "    از این مدل برای پیش‌بینی نمونه‌های موجود در مجموعه‌ی آزمون استفاده کنید و نتایج را در یک دیتافریم تک‌ستونه با نام <code>submission</code> و در قالب زیر آماده کنید. توجه داشته باشید که ترتیب پیش‌بینی شما اهمیت دارد یعنی به عنوان مثال پیش‌بینی مدل برای نمونه‌ی آزمون <code>m</code> ام را باید در ردیف <code>m</code> ام این دیتافریم ذخیره کنید.\n",
    "</font>\n",
    "</p>"
   ]
  },
  {
   "cell_type": "markdown",
   "metadata": {},
   "source": [
    "<center>\n",
    "<div dir=rtl style=\"direction: rtl;line-height:200%;font-family:vazir;font-size:medium\">\n",
    "<font face=\"vazir\" size=3>\n",
    "    \n",
    "|ستون|توضیحات|\n",
    "|:------:|:---:|\n",
    "|<code>category</code>|پیش‌بینی مدل شما (از جنس رشته)|\n",
    "    \n",
    "</font>\n",
    "</div>\n",
    "</center>"
   ]
  },
  {
   "cell_type": "code",
   "execution_count": 30,
   "metadata": {},
   "outputs": [],
   "source": [
    "X_test = test['title']\n",
    "predictions = model.predict(X_test)"
   ]
  },
  {
   "cell_type": "code",
   "execution_count": 31,
   "metadata": {},
   "outputs": [
    {
     "data": {
      "text/html": [
       "<div>\n",
       "<style scoped>\n",
       "    .dataframe tbody tr th:only-of-type {\n",
       "        vertical-align: middle;\n",
       "    }\n",
       "\n",
       "    .dataframe tbody tr th {\n",
       "        vertical-align: top;\n",
       "    }\n",
       "\n",
       "    .dataframe thead th {\n",
       "        text-align: right;\n",
       "    }\n",
       "</style>\n",
       "<table border=\"1\" class=\"dataframe\">\n",
       "  <thead>\n",
       "    <tr style=\"text-align: right;\">\n",
       "      <th></th>\n",
       "      <th>category</th>\n",
       "    </tr>\n",
       "  </thead>\n",
       "  <tbody>\n",
       "    <tr>\n",
       "      <th>0</th>\n",
       "      <td>هنر و سرگرمی</td>\n",
       "    </tr>\n",
       "    <tr>\n",
       "      <th>1</th>\n",
       "      <td>حقوق و دولت و سیاست</td>\n",
       "    </tr>\n",
       "    <tr>\n",
       "      <th>2</th>\n",
       "      <td>حقوق و دولت و سیاست</td>\n",
       "    </tr>\n",
       "    <tr>\n",
       "      <th>3</th>\n",
       "      <td>موسیقی</td>\n",
       "    </tr>\n",
       "    <tr>\n",
       "      <th>4</th>\n",
       "      <td>مذهبی</td>\n",
       "    </tr>\n",
       "  </tbody>\n",
       "</table>\n",
       "</div>"
      ],
      "text/plain": [
       "              category\n",
       "0         هنر و سرگرمی\n",
       "1  حقوق و دولت و سیاست\n",
       "2  حقوق و دولت و سیاست\n",
       "3               موسیقی\n",
       "4                مذهبی"
      ]
     },
     "execution_count": 31,
     "metadata": {},
     "output_type": "execute_result"
    }
   ],
   "source": [
    "submission = pd.DataFrame({'category': encoder.inverse_transform(predictions)})\n",
    "submission.head()"
   ]
  },
  {
   "cell_type": "markdown",
   "metadata": {},
   "source": [
    "<h2 align=right style=\"line-height:200%;font-family:vazir;color:#0099cc\">\n",
    "<font face=\"vazir\" color=\"#0099cc\">\n",
    "<b>سلول جواب‌ساز</b>\n",
    "</font>\n",
    "</h2>\n",
    "\n",
    "<p dir=rtl style=\"direction: rtl; text-align: justify; line-height:200%; font-family:vazir; font-size:medium\">\n",
    "<font face=\"vazir\" size=3>\n",
    "    برای ساخته‌شدن فایل <code>result.zip</code> سلول زیر را اجرا کنید. توجه داشته باشید که پیش از اجرای سلول زیر تغییرات اعمال شده در نت‌بوک را ذخیره کرده باشید (<code>ctrl+s</code>) تا در صورت نیاز به پشتیبانی امکان بررسی کد شما وجود داشته باشد.\n",
    "</font>\n",
    "</p>"
   ]
  },
  {
   "cell_type": "code",
   "execution_count": null,
   "metadata": {},
   "outputs": [],
   "source": [
    "import zipfile\n",
    "import joblib\n",
    "\n",
    "def compress(file_names):\n",
    "    print(\"File Paths:\")\n",
    "    print(file_names)\n",
    "    compression = zipfile.ZIP_DEFLATED\n",
    "    with zipfile.ZipFile(\"result.zip\", mode=\"w\") as zf:\n",
    "        for file_name in file_names:\n",
    "            zf.write('./' + file_name, file_name, compress_type=compression)\n",
    "\n",
    "submission.to_csv('submission.csv', index=False)\n",
    "file_names = ['text_categorization.ipynb', 'submission.csv']\n",
    "compress(file_names)"
   ]
  },
  {
   "cell_type": "markdown",
   "metadata": {},
   "source": [
    "<h2 dir=rtl align=right style=\"line-height:200%;font-family:vazir;color:#0099cc\">\n",
    "<font face=\"vazir\" color=\"#0099cc\">\n",
    "💭 اضافه: ابرِ کلمات (Word Cloud)\n",
    "</font>\n",
    "</h2>\n",
    "\n",
    "<center>\n",
    "<img src=\"wordcloud.png\">\n",
    "</center>\n",
    "\n",
    "<p dir=rtl style=\"direction: rtl; text-align: justify; line-height:200%; font-family:vazir; font-size:medium\">\n",
    "<font face=\"vazir\" size=3>\n",
    "یکی از کتابخانه‌های بسیار جالب مرتبط با متن در پایتون، <a href=\"https://github.com/amueller/word_cloud\"><code>WordCloud</code></a> نام دارد. این کتابخانه به شما کمک می‌کند تا ابری از پرتکرارترین توکن‌های موجود در یک مجموعه‌متن را به شکلی زیبا به تصویر بکشید. خوشبختانه نسخه‌ی فارسی این کتابخانه نیز وجود دارد که می‌توانید از <a href=\"https://github.com/alihoseiny/word_cloud_fa\">این لینک</a> به صفحه‌ی گیت‌هاب آن مراجعه کنید. حتی می‌توانید به‌صورت دلخواه تصویری را تعیین کنید تا نمایش نهایی توکن‌ها تداعی‌کننده‌ی تصویر موردنظر شما باشد.\n",
    "</font>\n",
    "</p>"
   ]
  },
  {
   "cell_type": "code",
   "execution_count": 36,
   "metadata": {},
   "outputs": [],
   "source": [
    "# !pip install wordcloud_fa"
   ]
  },
  {
   "cell_type": "code",
   "execution_count": 37,
   "metadata": {},
   "outputs": [],
   "source": [
    "cloud_text = ''\n",
    "for text in X_train:\n",
    "    cloud_text += text + ' '"
   ]
  },
  {
   "cell_type": "code",
   "execution_count": 38,
   "metadata": {},
   "outputs": [],
   "source": [
    "from wordcloud_fa import WordCloudFa\n",
    "\n",
    "wc = WordCloudFa(width=1200, height=800, persian_normalize=True, include_numbers=False, max_words=120, background_color='white', min_font_size=10, max_font_size=100)\n",
    "word_cloud = wc.generate(cloud_text)\n",
    "image = word_cloud.to_image()\n",
    "image.show()\n",
    "image.save('wordcloud.png')"
   ]
  }
 ],
 "metadata": {
  "kernelspec": {
   "display_name": "Python 3 (ipykernel)",
   "language": "python",
   "name": "python3"
  },
  "language_info": {
   "codemirror_mode": {
    "name": "ipython",
    "version": 3
   },
   "file_extension": ".py",
   "mimetype": "text/x-python",
   "name": "python",
   "nbconvert_exporter": "python",
   "pygments_lexer": "ipython3",
   "version": "3.9.12"
  },
  "vscode": {
   "interpreter": {
    "hash": "b25290d91e68666390a3f16911fef54d65a01c351d921450f79ed6c4a91d0756"
   }
  }
 },
 "nbformat": 4,
 "nbformat_minor": 2
}
